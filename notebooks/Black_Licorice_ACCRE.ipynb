{
 "cells": [
  {
   "cell_type": "code",
   "execution_count": 1,
   "id": "70841566",
   "metadata": {},
   "outputs": [],
   "source": [
    "import pandas as pd\n",
    "import numpy as np\n",
    "from datetime import datetime"
   ]
  },
  {
   "cell_type": "code",
   "execution_count": 2,
   "id": "c296652b",
   "metadata": {},
   "outputs": [],
   "source": [
    "jobs = pd.read_csv('fullsample.csv')"
   ]
  },
  {
   "cell_type": "code",
   "execution_count": 3,
   "id": "7d2a6714",
   "metadata": {},
   "outputs": [
    {
     "name": "stdout",
     "output_type": "stream",
     "text": [
      "<class 'pandas.core.frame.DataFrame'>\n",
      "RangeIndex: 7395885 entries, 0 to 7395884\n",
      "Data columns (total 12 columns):\n",
      " #   Column     Dtype \n",
      "---  ------     ----- \n",
      " 0   JOBID      object\n",
      " 1   STATE      object\n",
      " 2   BEGIN      object\n",
      " 3   END        object\n",
      " 4   REQMEM     object\n",
      " 5   USEDMEM    object\n",
      " 6   REQTIME    object\n",
      " 7   USEDTIME   object\n",
      " 8   NODES      int64 \n",
      " 9   CPUS       int64 \n",
      " 10  PARTITION  object\n",
      " 11  EXITCODE   object\n",
      "dtypes: int64(2), object(10)\n",
      "memory usage: 677.1+ MB\n"
     ]
    }
   ],
   "source": [
    "jobs.info()"
   ]
  },
  {
   "cell_type": "code",
   "execution_count": 4,
   "id": "2956b69f",
   "metadata": {},
   "outputs": [],
   "source": [
    "jobs.head()\n",
    "pd.set_option(\"display.max_columns\", None)"
   ]
  },
  {
   "cell_type": "code",
   "execution_count": 5,
   "id": "80b4b541",
   "metadata": {},
   "outputs": [],
   "source": [
    "jobs ['STATE'] = jobs['STATE'].astype('str')"
   ]
  },
  {
   "cell_type": "code",
   "execution_count": 6,
   "id": "03330cad",
   "metadata": {},
   "outputs": [],
   "source": [
    "jobs['BEGIN']= pd.to_datetime(jobs['BEGIN'], errors ='coerce')"
   ]
  },
  {
   "cell_type": "code",
   "execution_count": 7,
   "id": "228bbf37",
   "metadata": {},
   "outputs": [],
   "source": [
    "jobs['END']= pd.to_datetime(jobs['END'], errors ='coerce')"
   ]
  },
  {
   "cell_type": "code",
   "execution_count": 8,
   "id": "8b640bde",
   "metadata": {},
   "outputs": [],
   "source": [
    "jobs['UNIT_REQMEM'] = jobs['REQMEM'].str.extract(r'(\\D+)')\n"
   ]
  },
  {
   "cell_type": "code",
   "execution_count": 9,
   "id": "d3fc58ee",
   "metadata": {},
   "outputs": [],
   "source": [
    "jobs['REQMEM'] = jobs['REQMEM'].str.extract(r'(\\d+)')"
   ]
  },
  {
   "cell_type": "code",
   "execution_count": 10,
   "id": "d73a2508",
   "metadata": {},
   "outputs": [],
   "source": [
    "jobs['USEDMEM'] = jobs['USEDMEM'].str.extract(r'(\\d+)')"
   ]
  },
  {
   "cell_type": "code",
   "execution_count": 11,
   "id": "42fa5776",
   "metadata": {},
   "outputs": [],
   "source": [
    "jobs['REQMEM'] = jobs['REQMEM'].astype('int')"
   ]
  },
  {
   "cell_type": "code",
   "execution_count": 12,
   "id": "833d76cb",
   "metadata": {},
   "outputs": [],
   "source": [
    "# fullsample_df['REQTIME'] = fullsample_df['REQTIME'].str.extract(r'(\\d+)')"
   ]
  },
  {
   "cell_type": "code",
   "execution_count": 13,
   "id": "d80e3e5d",
   "metadata": {},
   "outputs": [],
   "source": [
    "jobs['REQTIME'] = jobs['REQTIME'].str.replace(\"-\", \" days \")\n",
    "jobs['USEDTIME'] = jobs['USEDTIME'].str.replace(\"-\", \" days \")\n",
    "jobs['REQTIME'] = pd.to_timedelta(jobs['REQTIME'])\n",
    "jobs['USEDTIME'] = pd.to_timedelta(jobs['USEDTIME'])"
   ]
  },
  {
   "cell_type": "code",
   "execution_count": 14,
   "id": "933eb12a",
   "metadata": {},
   "outputs": [],
   "source": [
    "for x in jobs.index:\n",
    "    if ['Unit_REQMEM'] == \"Mn\":\n",
    "        jobs.iloc[x]['REQMEM']=jobs.iloc[x]['REQMEM']*jobs.iloc[x]['NODES']/jobs.iloc[x]['CPUS']\n"
   ]
  },
  {
   "cell_type": "code",
   "execution_count": 15,
   "id": "7b4ebd4e",
   "metadata": {},
   "outputs": [
    {
     "data": {
      "text/html": [
       "<div>\n",
       "<style scoped>\n",
       "    .dataframe tbody tr th:only-of-type {\n",
       "        vertical-align: middle;\n",
       "    }\n",
       "\n",
       "    .dataframe tbody tr th {\n",
       "        vertical-align: top;\n",
       "    }\n",
       "\n",
       "    .dataframe thead th {\n",
       "        text-align: right;\n",
       "    }\n",
       "</style>\n",
       "<table border=\"1\" class=\"dataframe\">\n",
       "  <thead>\n",
       "    <tr style=\"text-align: right;\">\n",
       "      <th></th>\n",
       "      <th>JOBID</th>\n",
       "      <th>STATE</th>\n",
       "      <th>BEGIN</th>\n",
       "      <th>END</th>\n",
       "      <th>REQMEM</th>\n",
       "      <th>USEDMEM</th>\n",
       "      <th>REQTIME</th>\n",
       "      <th>USEDTIME</th>\n",
       "      <th>NODES</th>\n",
       "      <th>CPUS</th>\n",
       "      <th>PARTITION</th>\n",
       "      <th>EXITCODE</th>\n",
       "      <th>UNIT_REQMEM</th>\n",
       "    </tr>\n",
       "  </thead>\n",
       "  <tbody>\n",
       "    <tr>\n",
       "      <th>0</th>\n",
       "      <td>30616928</td>\n",
       "      <td>RUNNING</td>\n",
       "      <td>2021-07-31 22:15:00</td>\n",
       "      <td>NaT</td>\n",
       "      <td>2048</td>\n",
       "      <td>0</td>\n",
       "      <td>0 days 10:04:00</td>\n",
       "      <td>67 days 22:14:22</td>\n",
       "      <td>1</td>\n",
       "      <td>1</td>\n",
       "      <td>production</td>\n",
       "      <td>0:0</td>\n",
       "      <td>Mn</td>\n",
       "    </tr>\n",
       "    <tr>\n",
       "      <th>1</th>\n",
       "      <td>30853133</td>\n",
       "      <td>COMPLETED</td>\n",
       "      <td>2021-08-06 11:36:09</td>\n",
       "      <td>2021-09-05 11:36:32</td>\n",
       "      <td>262144</td>\n",
       "      <td>20604</td>\n",
       "      <td>30 days 00:00:00</td>\n",
       "      <td>30 days 00:00:23</td>\n",
       "      <td>1</td>\n",
       "      <td>1</td>\n",
       "      <td>cgw-platypus</td>\n",
       "      <td>0:0</td>\n",
       "      <td>Mn</td>\n",
       "    </tr>\n",
       "    <tr>\n",
       "      <th>2</th>\n",
       "      <td>30858137</td>\n",
       "      <td>COMPLETED</td>\n",
       "      <td>2021-08-06 19:04:39</td>\n",
       "      <td>2021-09-05 19:04:53</td>\n",
       "      <td>204800</td>\n",
       "      <td>57553</td>\n",
       "      <td>30 days 00:00:00</td>\n",
       "      <td>30 days 00:00:14</td>\n",
       "      <td>1</td>\n",
       "      <td>32</td>\n",
       "      <td>cgw-tbi01</td>\n",
       "      <td>0:0</td>\n",
       "      <td>Mn</td>\n",
       "    </tr>\n",
       "    <tr>\n",
       "      <th>3</th>\n",
       "      <td>30935078</td>\n",
       "      <td>COMPLETED</td>\n",
       "      <td>2021-08-09 16:52:51</td>\n",
       "      <td>2021-09-07 20:52:55</td>\n",
       "      <td>65536</td>\n",
       "      <td>20577</td>\n",
       "      <td>29 days 04:00:00</td>\n",
       "      <td>29 days 04:00:04</td>\n",
       "      <td>1</td>\n",
       "      <td>8</td>\n",
       "      <td>cgw-platypus</td>\n",
       "      <td>0:0</td>\n",
       "      <td>Mn</td>\n",
       "    </tr>\n",
       "    <tr>\n",
       "      <th>4</th>\n",
       "      <td>31364111_2</td>\n",
       "      <td>COMPLETED</td>\n",
       "      <td>2021-08-17 07:45:07</td>\n",
       "      <td>2021-09-10 16:45:24</td>\n",
       "      <td>16384</td>\n",
       "      <td>9733</td>\n",
       "      <td>24 days 09:00:00</td>\n",
       "      <td>24 days 09:00:17</td>\n",
       "      <td>1</td>\n",
       "      <td>1</td>\n",
       "      <td>production</td>\n",
       "      <td>0:0</td>\n",
       "      <td>Mn</td>\n",
       "    </tr>\n",
       "    <tr>\n",
       "      <th>...</th>\n",
       "      <td>...</td>\n",
       "      <td>...</td>\n",
       "      <td>...</td>\n",
       "      <td>...</td>\n",
       "      <td>...</td>\n",
       "      <td>...</td>\n",
       "      <td>...</td>\n",
       "      <td>...</td>\n",
       "      <td>...</td>\n",
       "      <td>...</td>\n",
       "      <td>...</td>\n",
       "      <td>...</td>\n",
       "      <td>...</td>\n",
       "    </tr>\n",
       "    <tr>\n",
       "      <th>7395880</th>\n",
       "      <td>25493434</td>\n",
       "      <td>COMPLETED</td>\n",
       "      <td>2020-10-31 23:39:00</td>\n",
       "      <td>2020-10-31 23:40:46</td>\n",
       "      <td>2000</td>\n",
       "      <td>0</td>\n",
       "      <td>2 days 00:00:00</td>\n",
       "      <td>0 days 00:01:46</td>\n",
       "      <td>1</td>\n",
       "      <td>1</td>\n",
       "      <td>sam</td>\n",
       "      <td>0:0</td>\n",
       "      <td>Mn</td>\n",
       "    </tr>\n",
       "    <tr>\n",
       "      <th>7395881</th>\n",
       "      <td>25493435</td>\n",
       "      <td>COMPLETED</td>\n",
       "      <td>2020-10-31 23:39:13</td>\n",
       "      <td>2020-10-31 23:40:38</td>\n",
       "      <td>2000</td>\n",
       "      <td>187</td>\n",
       "      <td>2 days 00:00:00</td>\n",
       "      <td>0 days 00:01:25</td>\n",
       "      <td>1</td>\n",
       "      <td>1</td>\n",
       "      <td>sam</td>\n",
       "      <td>0:0</td>\n",
       "      <td>Mn</td>\n",
       "    </tr>\n",
       "    <tr>\n",
       "      <th>7395882</th>\n",
       "      <td>25493476</td>\n",
       "      <td>COMPLETED</td>\n",
       "      <td>2020-10-31 23:46:29</td>\n",
       "      <td>2020-10-31 23:49:43</td>\n",
       "      <td>4096</td>\n",
       "      <td>803</td>\n",
       "      <td>0 days 12:00:00</td>\n",
       "      <td>0 days 00:03:14</td>\n",
       "      <td>1</td>\n",
       "      <td>1</td>\n",
       "      <td>production</td>\n",
       "      <td>0:0</td>\n",
       "      <td>Mc</td>\n",
       "    </tr>\n",
       "    <tr>\n",
       "      <th>7395883</th>\n",
       "      <td>25493515</td>\n",
       "      <td>COMPLETED</td>\n",
       "      <td>2020-10-31 23:49:44</td>\n",
       "      <td>2020-10-31 23:51:40</td>\n",
       "      <td>2000</td>\n",
       "      <td>0</td>\n",
       "      <td>2 days 00:00:00</td>\n",
       "      <td>0 days 00:01:56</td>\n",
       "      <td>1</td>\n",
       "      <td>1</td>\n",
       "      <td>sam</td>\n",
       "      <td>0:0</td>\n",
       "      <td>Mn</td>\n",
       "    </tr>\n",
       "    <tr>\n",
       "      <th>7395884</th>\n",
       "      <td>25493542</td>\n",
       "      <td>COMPLETED</td>\n",
       "      <td>2020-10-31 23:56:49</td>\n",
       "      <td>2020-10-31 23:59:57</td>\n",
       "      <td>4096</td>\n",
       "      <td>886</td>\n",
       "      <td>0 days 12:00:00</td>\n",
       "      <td>0 days 00:03:08</td>\n",
       "      <td>1</td>\n",
       "      <td>1</td>\n",
       "      <td>production</td>\n",
       "      <td>0:0</td>\n",
       "      <td>Mc</td>\n",
       "    </tr>\n",
       "  </tbody>\n",
       "</table>\n",
       "<p>7395885 rows × 13 columns</p>\n",
       "</div>"
      ],
      "text/plain": [
       "              JOBID      STATE               BEGIN                 END  \\\n",
       "0          30616928    RUNNING 2021-07-31 22:15:00                 NaT   \n",
       "1          30853133  COMPLETED 2021-08-06 11:36:09 2021-09-05 11:36:32   \n",
       "2          30858137  COMPLETED 2021-08-06 19:04:39 2021-09-05 19:04:53   \n",
       "3          30935078  COMPLETED 2021-08-09 16:52:51 2021-09-07 20:52:55   \n",
       "4        31364111_2  COMPLETED 2021-08-17 07:45:07 2021-09-10 16:45:24   \n",
       "...             ...        ...                 ...                 ...   \n",
       "7395880    25493434  COMPLETED 2020-10-31 23:39:00 2020-10-31 23:40:46   \n",
       "7395881    25493435  COMPLETED 2020-10-31 23:39:13 2020-10-31 23:40:38   \n",
       "7395882    25493476  COMPLETED 2020-10-31 23:46:29 2020-10-31 23:49:43   \n",
       "7395883    25493515  COMPLETED 2020-10-31 23:49:44 2020-10-31 23:51:40   \n",
       "7395884    25493542  COMPLETED 2020-10-31 23:56:49 2020-10-31 23:59:57   \n",
       "\n",
       "         REQMEM USEDMEM          REQTIME         USEDTIME  NODES  CPUS  \\\n",
       "0          2048       0  0 days 10:04:00 67 days 22:14:22      1     1   \n",
       "1        262144   20604 30 days 00:00:00 30 days 00:00:23      1     1   \n",
       "2        204800   57553 30 days 00:00:00 30 days 00:00:14      1    32   \n",
       "3         65536   20577 29 days 04:00:00 29 days 04:00:04      1     8   \n",
       "4         16384    9733 24 days 09:00:00 24 days 09:00:17      1     1   \n",
       "...         ...     ...              ...              ...    ...   ...   \n",
       "7395880    2000       0  2 days 00:00:00  0 days 00:01:46      1     1   \n",
       "7395881    2000     187  2 days 00:00:00  0 days 00:01:25      1     1   \n",
       "7395882    4096     803  0 days 12:00:00  0 days 00:03:14      1     1   \n",
       "7395883    2000       0  2 days 00:00:00  0 days 00:01:56      1     1   \n",
       "7395884    4096     886  0 days 12:00:00  0 days 00:03:08      1     1   \n",
       "\n",
       "            PARTITION EXITCODE UNIT_REQMEM  \n",
       "0          production      0:0          Mn  \n",
       "1        cgw-platypus      0:0          Mn  \n",
       "2           cgw-tbi01      0:0          Mn  \n",
       "3        cgw-platypus      0:0          Mn  \n",
       "4          production      0:0          Mn  \n",
       "...               ...      ...         ...  \n",
       "7395880           sam      0:0          Mn  \n",
       "7395881           sam      0:0          Mn  \n",
       "7395882    production      0:0          Mc  \n",
       "7395883           sam      0:0          Mn  \n",
       "7395884    production      0:0          Mc  \n",
       "\n",
       "[7395885 rows x 13 columns]"
      ]
     },
     "execution_count": 15,
     "metadata": {},
     "output_type": "execute_result"
    }
   ],
   "source": [
    "jobs"
   ]
  },
  {
   "cell_type": "code",
   "execution_count": 16,
   "id": "c475fec3",
   "metadata": {},
   "outputs": [],
   "source": [
    "jobs = jobs.dropna(subset=['END'])"
   ]
  },
  {
   "cell_type": "code",
   "execution_count": 17,
   "id": "a86a645d",
   "metadata": {},
   "outputs": [],
   "source": [
    "completed = jobs[jobs.EXITCODE == '0:0']"
   ]
  },
  {
   "cell_type": "code",
   "execution_count": 18,
   "id": "d3f89316",
   "metadata": {},
   "outputs": [],
   "source": [
    "slurm_wrapper_ce5 = pd.read_csv('slurm_wrapper_ce5.log',sep = ' - ', engine = 'python')"
   ]
  },
  {
   "cell_type": "code",
   "execution_count": null,
   "id": "c2fbbc88",
   "metadata": {},
   "outputs": [],
   "source": []
  },
  {
   "cell_type": "code",
   "execution_count": null,
   "id": "1f763548",
   "metadata": {},
   "outputs": [],
   "source": []
  },
  {
   "cell_type": "code",
   "execution_count": null,
   "id": "faaf558d",
   "metadata": {},
   "outputs": [],
   "source": []
  },
  {
   "cell_type": "code",
   "execution_count": null,
   "id": "e74dd087",
   "metadata": {},
   "outputs": [],
   "source": []
  },
  {
   "cell_type": "code",
   "execution_count": null,
   "id": "41f88763",
   "metadata": {},
   "outputs": [],
   "source": []
  },
  {
   "cell_type": "code",
   "execution_count": null,
   "id": "3008731f",
   "metadata": {},
   "outputs": [],
   "source": []
  }
 ],
 "metadata": {
  "kernelspec": {
   "display_name": "Python 3",
   "language": "python",
   "name": "python3"
  },
  "language_info": {
   "codemirror_mode": {
    "name": "ipython",
    "version": 3
   },
   "file_extension": ".py",
   "mimetype": "text/x-python",
   "name": "python",
   "nbconvert_exporter": "python",
   "pygments_lexer": "ipython3",
   "version": "3.8.8"
  }
 },
 "nbformat": 4,
 "nbformat_minor": 5
}
