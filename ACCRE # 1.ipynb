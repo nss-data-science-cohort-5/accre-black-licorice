{
 "cells": [
  {
   "cell_type": "markdown",
   "id": "b75e9a51",
   "metadata": {},
   "source": [
    "# Reading in 'fullsample' data and cleaning it up"
   ]
  },
  {
   "cell_type": "markdown",
   "id": "ca69be23",
   "metadata": {},
   "source": [
    "To get started, answer the following questions using just the fullsample.csv jobs dataset:\n",
    "\n",
    "Calculate some descriptive statistics for how many jobs per hour are being completed. What does the completions per hour look like over the time span of the dataset? Are there weekly trends, and has it been increasing over the last year?\n",
    "\n",
    "Does the job state affect completions per hour? i.e. if I only look at jobs with exit code 0:0 in the \"COMPLETED\" state, is that a similar number of completions per hour as with all jobs, failed or cancelled? This will indicate if the load on the scheduler is by user design or is a result of users not sufficiently testing their jobs before submitting very large arrays. We also expect that most job completions will be in the \"production\" partition, but is this actually true?"
   ]
  },
  {
   "cell_type": "code",
   "execution_count": 1,
   "id": "b179bc40",
   "metadata": {},
   "outputs": [],
   "source": [
    "import pandas as pd\n",
    "import datetime\n",
    "from datetime import datetime\n",
    "from datetime import timedelta\n",
    "import time\n",
    "import re\n",
    "import numpy as np\n",
    "pd.options.display.max_rows=1000"
   ]
  },
  {
   "cell_type": "code",
   "execution_count": 26,
   "id": "b791baab",
   "metadata": {},
   "outputs": [],
   "source": [
    "#Job list with only completed jobs\n",
    "jobs = pd.read_csv('fullsample.csv')"
   ]
  },
  {
   "cell_type": "code",
   "execution_count": 33,
   "id": "77a3c776",
   "metadata": {},
   "outputs": [],
   "source": [
    "#changing to datetime\n",
    "jobs['BEGIN'] = pd.to_datetime(jobs['BEGIN'],\n",
    "                               format = '%Y-%m-%d %H:%M:%S', \n",
    "                               errors='coerce')\n",
    "jobs['END'] = pd.to_datetime(jobs['END'],\n",
    "                             format = '%Y-%m-%d %H:%M:%S', \n",
    "                             errors='coerce')"
   ]
  },
  {
   "cell_type": "code",
   "execution_count": 35,
   "id": "daabe60d",
   "metadata": {},
   "outputs": [],
   "source": [
    "# changing REQTIME and USEDTIME from string to time type\n",
    "jobs['REQTIME'] = jobs['REQTIME'].str.replace(\"-\", \" days \")\n",
    "jobs['USEDTIME'] = jobs['USEDTIME'].str.replace(\"-\", \" days \")\n",
    "jobs['REQTIME'] = pd.to_timedelta(jobs['REQTIME'])\n",
    "jobs['USEDTIME'] = pd.to_timedelta(jobs['USEDTIME'])\n",
    "\n",
    "#extract unit to new column and turn REQMEM into int type for later calculations \n",
    "jobs['Unit'] = jobs['REQMEM'].str.extract(r'([a-zA-Z]+)')\n",
    "jobs['REQMEM'] =jobs['REQMEM'].str.split(r'([a-zA-Z]+)').str[0]\n",
    "jobs['REQMEM'] = jobs['REQMEM'].astype('int')\n",
    "\n",
    "#extract unit, turn into float type\n",
    "jobs['USEDMEM'] = jobs['USEDMEM'].str.split(r'([a-zA-Z]+)').str[0]\n",
    "jobs['USEDMEM'] = jobs['USEDMEM'].astype('float')\n",
    "\n",
    "\n",
    "#move Unit column\n",
    "unit = jobs['Unit']\n",
    "jobs = jobs.drop(columns=['Unit'])\n",
    "jobs.insert(loc=5, column='Unit', value=unit)"
   ]
  },
  {
   "cell_type": "code",
   "execution_count": 36,
   "id": "f156a171",
   "metadata": {},
   "outputs": [],
   "source": [
    "#convert REQMEM and USEDMEM Mn to Mc\n",
    "jobs['REQMEM'] = np.where(jobs['Unit'] == 'Mn', jobs['REQMEM']*jobs['NODES']/jobs['CPUS'], jobs['REQMEM'])\n",
    "jobs['USEDMEM'] = jobs['USEDMEM']*jobs['NODES']/jobs['CPUS']\n",
    "\n",
    "#Drop column since no longer needed\n",
    "jobs = jobs.drop(columns=['Unit'])\n",
    "\n",
    "#Rename columns \n",
    "jobs.rename(columns={'USEDMEM': 'USEDMEM (Mc)'},inplace=True)\n",
    "jobs.rename(columns={'REQMEM': 'REQMEM (Mc)'},inplace=True)\n"
   ]
  },
  {
   "cell_type": "code",
   "execution_count": 38,
   "id": "565a61e9",
   "metadata": {},
   "outputs": [],
   "source": [
    "jobs.to_csv('jobs')"
   ]
  }
 ],
 "metadata": {
  "kernelspec": {
   "display_name": "Python 3",
   "language": "python",
   "name": "python3"
  },
  "language_info": {
   "codemirror_mode": {
    "name": "ipython",
    "version": 3
   },
   "file_extension": ".py",
   "mimetype": "text/x-python",
   "name": "python",
   "nbconvert_exporter": "python",
   "pygments_lexer": "ipython3",
   "version": "3.8.8"
  }
 },
 "nbformat": 4,
 "nbformat_minor": 5
}
