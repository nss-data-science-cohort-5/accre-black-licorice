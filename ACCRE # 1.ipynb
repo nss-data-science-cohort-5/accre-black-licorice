{
 "cells": [
  {
   "cell_type": "markdown",
   "id": "ca69be23",
   "metadata": {},
   "source": [
    "To get started, answer the following questions using just the fullsample.csv jobs dataset:\n",
    "\n",
    "Calculate some descriptive statistics for how many jobs per hour are being completed. What does the completions per hour look like over the time span of the dataset? Are there weekly trends, and has it been increasing over the last year?\n",
    "\n",
    "Does the job state affect completions per hour? i.e. if I only look at jobs with exit code 0:0 in the \"COMPLETED\" state, is that a similar number of completions per hour as with all jobs, failed or cancelled? This will indicate if the load on the scheduler is by user design or is a result of users not sufficiently testing their jobs before submitting very large arrays. We also expect that most job completions will be in the \"production\" partition, but is this actually true?"
   ]
  },
  {
   "cell_type": "code",
   "execution_count": 5,
   "id": "b179bc40",
   "metadata": {},
   "outputs": [],
   "source": [
    "import pandas as pd\n",
    "import datetime\n",
    "from datetime import datetime\n",
    "from datetime import timedelta\n",
    "import time\n",
    "import re\n",
    "import numpy as np\n",
    "from statsmodels.tsa.seasonal import seasonal_decompose\n",
    "pd.options.display.max_rows=1000\n"
   ]
  },
  {
   "cell_type": "code",
   "execution_count": 6,
   "id": "b791baab",
   "metadata": {},
   "outputs": [],
   "source": [
    "#Job list with only completed jobs\n",
    "fullsample_completed = pd.read_csv('fullsample_completed')"
   ]
  },
  {
   "cell_type": "code",
   "execution_count": 7,
   "id": "daabe60d",
   "metadata": {},
   "outputs": [],
   "source": [
    "#cleaning table up\n",
    "\n",
    "#changing to datetime\n",
    "fullsample_completed['BEGIN'] = pd.to_datetime(fullsample_completed['BEGIN'])\n",
    "fullsample_completed['END'] = pd.to_datetime(fullsample_completed['END'])\n",
    "\n",
    "# changing REQTIME and USEDTIME from string to time type\n",
    "fullsample_completed['REQTIME'] = fullsample_completed['REQTIME'].str.replace(\"-\", \" days \")\n",
    "fullsample_completed['USEDTIME'] = fullsample_completed['USEDTIME'].str.replace(\"-\", \" days \")\n",
    "fullsample_completed['REQTIME'] = pd.to_timedelta(fullsample_completed['REQTIME'])\n",
    "fullsample_completed['USEDTIME'] = pd.to_timedelta(fullsample_completed['USEDTIME'])\n",
    "\n",
    "#extract unit to new column and turn REQMEM into int type for later calculations \n",
    "fullsample_completed['Unit'] = fullsample_completed['REQMEM'].str.extract(r'([a-zA-Z]+)')\n",
    "fullsample_completed['REQMEM'] =fullsample_completed['REQMEM'].str.split(r'([a-zA-Z]+)').str[0]\n",
    "fullsample_completed['REQMEM'] = fullsample_completed['REQMEM'].astype('int')\n",
    "\n",
    "#extract unit, renme column, turn into float type\n",
    "fullsample_completed['USEDMEM'] = fullsample_completed['USEDMEM'].str.split(r'([a-zA-Z]+)').str[0]\n",
    "fullsample_completed['USEDMEM'] = fullsample_completed['USEDMEM'].astype('float')\n",
    "fullsample_completed.rename(columns={'USEDMEM': 'USEDMEM (Mn)'},inplace=True)\n",
    "\n",
    "#move Unit column\n",
    "unit = fullsample_completed['Unit']\n",
    "fullsample_completed = fullsample_completed.drop(columns=['Unit'])\n",
    "fullsample_completed.insert(loc=5, column='Unit', value=unit)"
   ]
  },
  {
   "cell_type": "code",
   "execution_count": 8,
   "id": "36dbe8cd",
   "metadata": {},
   "outputs": [],
   "source": [
    "fullsample_completed.to_pickle('PICKLE')"
   ]
  },
  {
   "cell_type": "code",
   "execution_count": 9,
   "id": "0cee05c1",
   "metadata": {
    "scrolled": true
   },
   "outputs": [],
   "source": [
    "PICKLE = pd.read_pickle(\"PICKLE\")"
   ]
  },
  {
   "cell_type": "code",
   "execution_count": 11,
   "id": "6f7a5718",
   "metadata": {
    "scrolled": true
   },
   "outputs": [
    {
     "data": {
      "text/plain": [
       "JOBID                    object\n",
       "STATE                    object\n",
       "BEGIN            datetime64[ns]\n",
       "END              datetime64[ns]\n",
       "REQMEM                    int32\n",
       "Unit                     object\n",
       "USEDMEM (Mn)            float64\n",
       "REQTIME         timedelta64[ns]\n",
       "USEDTIME        timedelta64[ns]\n",
       "NODES                     int64\n",
       "CPUS                      int64\n",
       "PARTITION                object\n",
       "EXITCODE                 object\n",
       "dtype: object"
      ]
     },
     "execution_count": 11,
     "metadata": {},
     "output_type": "execute_result"
    }
   ],
   "source": [
    "PICKLE"
   ]
  },
  {
   "cell_type": "code",
   "execution_count": null,
   "id": "e8435f59",
   "metadata": {},
   "outputs": [],
   "source": []
  }
 ],
 "metadata": {
  "kernelspec": {
   "display_name": "Python 3",
   "language": "python",
   "name": "python3"
  }
 },
 "nbformat": 4,
 "nbformat_minor": 5
}
